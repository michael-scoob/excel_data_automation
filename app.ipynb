{
 "metadata": {
  "language_info": {
   "codemirror_mode": {
    "name": "ipython",
    "version": 3
   },
   "file_extension": ".py",
   "mimetype": "text/x-python",
   "name": "python",
   "nbconvert_exporter": "python",
   "pygments_lexer": "ipython3",
   "version": "3.9.2"
  },
  "orig_nbformat": 2,
  "kernelspec": {
   "name": "python392jvsc74a57bd002c034656f92a956695c058e9896fe57b85cb16a5351a5e6381d957ad84aa736",
   "display_name": "Python 3.9.2 64-bit"
  }
 },
 "nbformat": 4,
 "nbformat_minor": 2,
 "cells": [
  {
   "cell_type": "code",
   "execution_count": 73,
   "metadata": {},
   "outputs": [],
   "source": [
    "##############################################################################\n",
    "# Author: M.Mark, P.RVC 21, DB Regio AG\n",
    "# Datum: 12.05.2021\n",
    "# Licence: \"THE BEER-WARE LICENSE\" \n",
    "# As long as you retain this notice you can do whatever you want with this stuff. \n",
    "# If we meet some day, and you think this stuff is worth it, \n",
    "# you can buy me a beer in return\n",
    "###############################################################################\n",
    "\n",
    "import pandas as pd\n",
    "from pandas import ExcelWriter\n",
    "from pandas import ExcelFile\n",
    "import glob"
   ]
  },
  {
   "cell_type": "code",
   "execution_count": 74,
   "metadata": {},
   "outputs": [
    {
     "output_type": "stream",
     "name": "stdout",
     "text": [
      ".\\source_data\\data_A.xlsx\n.\\source_data\\data_B.xlsx\n.\\source_data\\data_C.xlsx\n.\\source_data\\data_D.xlsx\n.\\source_data\\new_file.xlsx\n"
     ]
    }
   ],
   "source": [
    "# Alle Quellen aus dem Verzeichnis auflisten ...\n",
    "PATH = \".\\source_data\\*.xlsx\"\n",
    "file_list = glob.glob(PATH)\n",
    "for index in range(len(file_list)):\n",
    "    print(file_list[index])"
   ]
  },
  {
   "cell_type": "code",
   "execution_count": 75,
   "metadata": {},
   "outputs": [
    {
     "output_type": "execute_result",
     "data": {
      "text/plain": [
       "['A', 'B', 'C', 'D']"
      ]
     },
     "metadata": {},
     "execution_count": 75
    }
   ],
   "source": [
    "# Die Spalten auslesen\n",
    "index = 0\n",
    "col_list = []\n",
    "df = pd.read_excel(str(file_list[index]), sheet_name=0)\n",
    "for col in df.columns:\n",
    "    col_list.append(col)\n",
    "col_list"
   ]
  },
  {
   "cell_type": "code",
   "execution_count": 76,
   "metadata": {},
   "outputs": [
    {
     "output_type": "execute_result",
     "data": {
      "text/plain": [
       "Empty DataFrame\n",
       "Columns: [A, B, C, D]\n",
       "Index: []"
      ],
      "text/html": "<div>\n<style scoped>\n    .dataframe tbody tr th:only-of-type {\n        vertical-align: middle;\n    }\n\n    .dataframe tbody tr th {\n        vertical-align: top;\n    }\n\n    .dataframe thead th {\n        text-align: right;\n    }\n</style>\n<table border=\"1\" class=\"dataframe\">\n  <thead>\n    <tr style=\"text-align: right;\">\n      <th></th>\n      <th>A</th>\n      <th>B</th>\n      <th>C</th>\n      <th>D</th>\n    </tr>\n  </thead>\n  <tbody>\n  </tbody>\n</table>\n</div>"
     },
     "metadata": {},
     "execution_count": 76
    }
   ],
   "source": [
    "# (Optional) Einen neuen Data-Frame erzeugen\n",
    "df_new=pd.DataFrame()\n",
    "new_df = pd.DataFrame(df_new, \n",
    "    columns = ['A','B','C','D'])\n",
    "new_df"
   ]
  },
  {
   "cell_type": "code",
   "execution_count": 77,
   "metadata": {},
   "outputs": [
    {
     "output_type": "execute_result",
     "data": {
      "text/plain": [
       "0.2927807292840864"
      ]
     },
     "metadata": {},
     "execution_count": 77
    }
   ],
   "source": [
    "# (Optional) Hier einen Wert aus einer Spalte lesen\n",
    "value = df_A.iloc[1]['A']\n",
    "value"
   ]
  },
  {
   "cell_type": "code",
   "execution_count": 78,
   "metadata": {},
   "outputs": [
    {
     "output_type": "execute_result",
     "data": {
      "text/plain": [
       "0    0.734276\n",
       "1    0.292781\n",
       "2    0.378065\n",
       "3    0.255709\n",
       "Name: A, dtype: float64"
      ]
     },
     "metadata": {},
     "execution_count": 78
    }
   ],
   "source": [
    "# (Optional) Hier eine ganze Spalte lesen\n",
    "df_A = pd.read_excel(str(file_list[0]), sheet_name=0)\n",
    "df_A['A']"
   ]
  },
  {
   "cell_type": "code",
   "execution_count": 79,
   "metadata": {},
   "outputs": [
    {
     "output_type": "execute_result",
     "data": {
      "text/plain": [
       "          A         B         C         D\n",
       "0  0.734276  0.221637  0.264032  0.299956\n",
       "1  0.292781  0.989955  0.384947  0.617870\n",
       "2  0.378065  0.243794  0.395443  0.739609\n",
       "3  0.255709  0.797506  0.041567  0.979082"
      ],
      "text/html": "<div>\n<style scoped>\n    .dataframe tbody tr th:only-of-type {\n        vertical-align: middle;\n    }\n\n    .dataframe tbody tr th {\n        vertical-align: top;\n    }\n\n    .dataframe thead th {\n        text-align: right;\n    }\n</style>\n<table border=\"1\" class=\"dataframe\">\n  <thead>\n    <tr style=\"text-align: right;\">\n      <th></th>\n      <th>A</th>\n      <th>B</th>\n      <th>C</th>\n      <th>D</th>\n    </tr>\n  </thead>\n  <tbody>\n    <tr>\n      <th>0</th>\n      <td>0.734276</td>\n      <td>0.221637</td>\n      <td>0.264032</td>\n      <td>0.299956</td>\n    </tr>\n    <tr>\n      <th>1</th>\n      <td>0.292781</td>\n      <td>0.989955</td>\n      <td>0.384947</td>\n      <td>0.617870</td>\n    </tr>\n    <tr>\n      <th>2</th>\n      <td>0.378065</td>\n      <td>0.243794</td>\n      <td>0.395443</td>\n      <td>0.739609</td>\n    </tr>\n    <tr>\n      <th>3</th>\n      <td>0.255709</td>\n      <td>0.797506</td>\n      <td>0.041567</td>\n      <td>0.979082</td>\n    </tr>\n  </tbody>\n</table>\n</div>"
     },
     "metadata": {},
     "execution_count": 79
    }
   ],
   "source": [
    "# Befüllen des neuen Data Frame mit den Spalten A,B,C,D der Quellen-Tabellen \n",
    "df_final = pd.DataFrame()\n",
    "for index in range(len(file_list)-1):\n",
    "    df = pd.read_excel(str(file_list[index]), sheet_name=0)\n",
    "    df_final[col_list[index]] = df[col_list[index]]\n",
    "df_final"
   ]
  },
  {
   "cell_type": "code",
   "execution_count": 80,
   "metadata": {},
   "outputs": [
    {
     "output_type": "execute_result",
     "data": {
      "text/plain": [
       "0    0.734276\n",
       "1    0.000000\n",
       "2    0.378065\n",
       "3    0.255709\n",
       "Name: A, dtype: float64"
      ]
     },
     "metadata": {},
     "execution_count": 80
    }
   ],
   "source": [
    "# (Optional) Hier einen Wert in eine Zelle schreiben\n",
    "df_A.iloc[1]['A'] = 0.0\n",
    "df_A['A']"
   ]
  },
  {
   "cell_type": "code",
   "execution_count": 81,
   "metadata": {},
   "outputs": [],
   "source": [
    "# Ein neues Excel File erzeugen \n",
    "NEW_FILE_PATH = '.\\\\sink_data\\\\final_data.xlsx'\n",
    "writer = pd.ExcelWriter(NEW_FILE_PATH, engine='xlsxwriter')\n",
    "writer.save()\n",
    "\n",
    "# Den finalen Data Frame in das Excel File speichern\n",
    "writer = pd.ExcelWriter(NEW_FILE_PATH, engine='xlsxwriter')\n",
    "df_final.to_excel(writer, sheet_name='Sheet1', index=False)\n",
    "writer.close()"
   ]
  },
  {
   "cell_type": "code",
   "execution_count": 82,
   "metadata": {},
   "outputs": [
    {
     "output_type": "execute_result",
     "data": {
      "text/plain": [
       "          A         B         C         D\n",
       "0  0.734276  0.221637  0.264032  0.299956\n",
       "1  0.292781  0.989955  0.384947  0.617870\n",
       "2  0.378065  0.243794  0.395443  0.739609\n",
       "3  0.255709  0.797506  0.041567  0.979082"
      ],
      "text/html": "<div>\n<style scoped>\n    .dataframe tbody tr th:only-of-type {\n        vertical-align: middle;\n    }\n\n    .dataframe tbody tr th {\n        vertical-align: top;\n    }\n\n    .dataframe thead th {\n        text-align: right;\n    }\n</style>\n<table border=\"1\" class=\"dataframe\">\n  <thead>\n    <tr style=\"text-align: right;\">\n      <th></th>\n      <th>A</th>\n      <th>B</th>\n      <th>C</th>\n      <th>D</th>\n    </tr>\n  </thead>\n  <tbody>\n    <tr>\n      <th>0</th>\n      <td>0.734276</td>\n      <td>0.221637</td>\n      <td>0.264032</td>\n      <td>0.299956</td>\n    </tr>\n    <tr>\n      <th>1</th>\n      <td>0.292781</td>\n      <td>0.989955</td>\n      <td>0.384947</td>\n      <td>0.617870</td>\n    </tr>\n    <tr>\n      <th>2</th>\n      <td>0.378065</td>\n      <td>0.243794</td>\n      <td>0.395443</td>\n      <td>0.739609</td>\n    </tr>\n    <tr>\n      <th>3</th>\n      <td>0.255709</td>\n      <td>0.797506</td>\n      <td>0.041567</td>\n      <td>0.979082</td>\n    </tr>\n  </tbody>\n</table>\n</div>"
     },
     "metadata": {},
     "execution_count": 82
    }
   ],
   "source": [
    "# Inhalt der dinalen Excel Tabel anzeigen\n",
    "final_file_df = pd.read_excel(NEW_FILE_PATH, sheet_name=0)\n",
    "final_file_df"
   ]
  }
 ]
}